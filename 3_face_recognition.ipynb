{
 "cells": [
  {
   "cell_type": "markdown",
   "metadata": {},
   "source": [
    "Now, we reached the final phase of our project. Here, we will capture a fresh face on our camera and if this person had his face captured and trained before, our recognizer will make a “prediction” returning its id and an index, shown how confident the recognizer is with this match."
   ]
  },
  {
   "cell_type": "markdown",
   "metadata": {},
   "source": [
    "### SUDIP MITRA's AI DEVELOPMENT LAB\n",
    "sudipmitraonline@gmail.com\n",
    "\n",
    "github.com/sudipmitraonline"
   ]
  },
  {
   "cell_type": "markdown",
   "metadata": {},
   "source": [
    "<img class=\"ok te s t u ht ai ic\" width=\"631\" height=\"510\" srcset=\"https://miro.medium.com/max/552/0*kkZMQyWtR5NOFr3q. 276w, https://miro.medium.com/max/1104/0*kkZMQyWtR5NOFr3q. 552w, https://miro.medium.com/max/1262/0*kkZMQyWtR5NOFr3q. 631w\" sizes=\"631px\" role=\"presentation\" src=\"https://miro.medium.com/max/789/0*kkZMQyWtR5NOFr3q.\">"
   ]
  },
  {
   "cell_type": "code",
   "execution_count": null,
   "metadata": {},
   "outputs": [],
   "source": [
    "import cv2\n",
    "import numpy as np\n",
    "import os \n",
    "\n",
    "#@Author : Sudip Mitra\n",
    "#sudipmitraonline@gmail.com\n",
    "#github.com/sudipmitraonline\n",
    "\n",
    "recognizer = cv2.face.LBPHFaceRecognizer_create()\n",
    "recognizer.read('trainer/trainer.yml')\n",
    "cascadePath = \"haarcascade_frontalface_default.xml\"\n",
    "faceCascade = cv2.CascadeClassifier(cascadePath);\n",
    "font = cv2.FONT_HERSHEY_SIMPLEX\n",
    "#iniciate id counter\n",
    "id = 0\n",
    "# names related to ids: example ==> Marcelo: id=1,  etc\n",
    "names = ['None', 'Sudip', 'Subrata', 'Shikha', 'Shree', 'ETC'] \n",
    "# Initialize and start realtime video capture\n",
    "cam = cv2.VideoCapture(0)\n",
    "cam.set(3, 640) # set video widht\n",
    "cam.set(4, 480) # set video height\n",
    "# Define min window size to be recognized as a face\n",
    "minW = 0.1*cam.get(3)\n",
    "minH = 0.1*cam.get(4)\n",
    "while True:\n",
    "    ret, img =cam.read()\n",
    "    img = cv2.flip(img, -1) # Flip vertically\n",
    "    gray = cv2.cvtColor(img,cv2.COLOR_BGR2GRAY)\n",
    "    \n",
    "    faces = faceCascade.detectMultiScale( \n",
    "        gray,\n",
    "        scaleFactor = 1.2,\n",
    "        minNeighbors = 5,\n",
    "        minSize = (int(minW), int(minH)),\n",
    "       )\n",
    "    for(x,y,w,h) in faces:\n",
    "        cv2.rectangle(img, (x,y), (x+w,y+h), (0,255,0), 2)\n",
    "        id, confidence = recognizer.predict(gray[y:y+h,x:x+w])\n",
    "        \n",
    "        # If confidence is less them 100 ==> \"0\" : perfect match \n",
    "        if (confidence < 100):\n",
    "            id = names[id]\n",
    "            confidence = \"  {0}%\".format(round(100 - confidence))\n",
    "        else:\n",
    "            id = \"unknown\"\n",
    "            confidence = \"  {0}%\".format(round(100 - confidence))\n",
    "        \n",
    "        cv2.putText(\n",
    "                    img, \n",
    "                    str(id), \n",
    "                    (x+5,y-5), \n",
    "                    font, \n",
    "                    1, \n",
    "                    (255,255,255), \n",
    "                    2\n",
    "                   )\n",
    "        cv2.putText(\n",
    "                    img, \n",
    "                    str(confidence), \n",
    "                    (x+5,y+h-5), \n",
    "                    font, \n",
    "                    1, \n",
    "                    (255,255,0), \n",
    "                    1\n",
    "                   )  \n",
    "    \n",
    "    cv2.imshow('camera',img) \n",
    "    k = cv2.waitKey(10) & 0xff # Press 'ESC' for exiting video\n",
    "    if k == 27:\n",
    "        break\n",
    "# Do a bit of cleanup\n",
    "print(\"\\n [INFO] Exiting Program and cleanup stuff\")\n",
    "cam.release()\n",
    "cv2.destroyAllWindows()"
   ]
  },
  {
   "cell_type": "raw",
   "metadata": {},
   "source": [
    "We are including here a new array, so we will display “names”, instead of numbered ids:\n",
    "names = ['None', 'Sudip', 'Subrata', 'Shikha', 'Shree', 'ETC']\n",
    "So, for example: Sudip will the user with id = 1; Subrata: id=2, etc."
   ]
  },
  {
   "cell_type": "raw",
   "metadata": {},
   "source": [
    "Next, we will detect a face, same we did before with the haasCascade classifier. Having a detected face we can call the most important function in the above code:\n",
    "id, confidence = recognizer.predict(gray portion of the face)"
   ]
  },
  {
   "cell_type": "raw",
   "metadata": {},
   "source": [
    "The recognizer.predict (), will take as a parameter a captured portion of the face to be analyzed and will return its probable owner, indicating its id and how much confidence the recognizer is in relation with this match."
   ]
  },
  {
   "cell_type": "raw",
   "metadata": {},
   "source": [
    "And at last, if the recognizer could predict a face, we put a text over the image with the probable id and how much is the “probability” in % that the match is correct (“probability” = 100 — confidence index). If not, an “unknow” label is put on the face."
   ]
  }
 ],
 "metadata": {
  "kernelspec": {
   "display_name": "Python 3",
   "language": "python",
   "name": "python3"
  },
  "language_info": {
   "codemirror_mode": {
    "name": "ipython",
    "version": 3
   },
   "file_extension": ".py",
   "mimetype": "text/x-python",
   "name": "python",
   "nbconvert_exporter": "python",
   "pygments_lexer": "ipython3",
   "version": "3.7.0"
  }
 },
 "nbformat": 4,
 "nbformat_minor": 4
}
