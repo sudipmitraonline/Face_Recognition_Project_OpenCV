{
 "cells": [
  {
   "cell_type": "markdown",
   "metadata": {},
   "source": [
    "We will simply create a dataset, where we will store for each id, a group of photos in gray with the portion that was used for face detecting."
   ]
  },
  {
   "cell_type": "raw",
   "metadata": {},
   "source": [
    "create a subdirectory where we will store our facial samples and name it “dataset”: mkdir dataset"
   ]
  },
  {
   "cell_type": "markdown",
   "metadata": {},
   "source": [
    "### SUDIP MITRA's AI DEVELOPMENT LAB\n",
    "sudipmitraonline@gmail.com\n",
    "\n",
    "github.com/sudipmitraonline"
   ]
  },
  {
   "cell_type": "markdown",
   "metadata": {},
   "source": [
    "<img class=\"ok te s t u ht ai ic\" width=\"640\" height=\"510\" srcset=\"https://miro.medium.com/max/552/0*Nuf1sgV1y5DaH6wF. 276w, https://miro.medium.com/max/1104/0*Nuf1sgV1y5DaH6wF. 552w, https://miro.medium.com/max/1280/0*Nuf1sgV1y5DaH6wF. 640w\" sizes=\"640px\" role=\"presentation\" src=\"https://miro.medium.com/max/800/0*Nuf1sgV1y5DaH6wF.\">"
   ]
  },
  {
   "cell_type": "code",
   "execution_count": 1,
   "metadata": {},
   "outputs": [
    {
     "name": "stdin",
     "output_type": "stream",
     "text": [
      "\n",
      " enter user id end press <return> ==>   12\n"
     ]
    },
    {
     "name": "stdout",
     "output_type": "stream",
     "text": [
      "\n",
      " [INFO] Initializing face capture. Look the camera and wait ...\n",
      "\n",
      " [INFO] Exiting Program and cleanup stuff\n"
     ]
    }
   ],
   "source": [
    "import cv2\n",
    "import os\n",
    "\n",
    "#@Author : Sudip Mitra\n",
    "#sudipmitraonline@gmail.com\n",
    "#github.com/sudipmitraonline\n",
    "\n",
    "cam = cv2.VideoCapture(0)\n",
    "cam.set(3, 640) # set video width\n",
    "cam.set(4, 480) # set video height\n",
    "face_detector = cv2.CascadeClassifier('haarcascade_frontalface_default.xml')\n",
    "# For each person, enter one numeric face id\n",
    "face_id = input('\\n enter user id end press <return> ==>  ')\n",
    "print(\"\\n [INFO] Initializing face capture. Look the camera and wait ...\")\n",
    "# Initialize individual sampling face count\n",
    "count = 0\n",
    "while(True):\n",
    "    ret, img = cam.read()\n",
    "    img = cv2.flip(img, 1) # flip video image vertically\n",
    "    gray = cv2.cvtColor(img, cv2.COLOR_BGR2GRAY)\n",
    "    faces = face_detector.detectMultiScale(gray, 1.3, 5)\n",
    "    for (x,y,w,h) in faces:\n",
    "        cv2.rectangle(img, (x,y), (x+w,y+h), (255,0,0), 2)     \n",
    "        count += 1\n",
    "        # Save the captured image into the datasets folder\n",
    "        cv2.imwrite(\"dataset/User.\" + str(face_id) + '.' +  \n",
    "                    str(count) + \".jpg\", gray[y:y+h,x:x+w])\n",
    "        cv2.imshow('image', img)\n",
    "    k = cv2.waitKey(100) & 0xff # Press 'ESC' for exiting video\n",
    "    if k == 27:\n",
    "        break\n",
    "    elif count >= 30: # Take 30 face sample and stop video\n",
    "         break\n",
    "# Do a bit of cleanup\n",
    "print(\"\\n [INFO] Exiting Program and cleanup stuff\")\n",
    "cam.release()\n",
    "cv2.destroyAllWindows()"
   ]
  },
  {
   "cell_type": "raw",
   "metadata": {},
   "source": [
    "The code is very similar to the code that we saw for face detection. What we added, was an “input command” to capture a user id, that should be an integer number (1, 2, 3, etc)\n",
    "face_id = input('\\n enter user id end press  ==>  ')"
   ]
  },
  {
   "cell_type": "raw",
   "metadata": {},
   "source": [
    "And for each one of the captured frames, we should save it as a file on a “dataset” directory:\n",
    "cv2.imwrite(\"dataset/User.\" + str(face_id) + '.' + str(count) + \".jpg\", gray[y:y+h,x:x+w])"
   ]
  },
  {
   "cell_type": "raw",
   "metadata": {},
   "source": [
    "Note that for saving the above file, you must have imported the library “os”. Each file’s name will follow the structure:\n",
    "User.face_id.count.jpg"
   ]
  },
  {
   "cell_type": "raw",
   "metadata": {},
   "source": [
    "For example, for a user with a face_id = 1, the 4th sample file on dataset/ directory will be something like:\n",
    "User.1.4.jpg"
   ]
  }
 ],
 "metadata": {
  "kernelspec": {
   "display_name": "Python 3",
   "language": "python",
   "name": "python3"
  },
  "language_info": {
   "codemirror_mode": {
    "name": "ipython",
    "version": 3
   },
   "file_extension": ".py",
   "mimetype": "text/x-python",
   "name": "python",
   "nbconvert_exporter": "python",
   "pygments_lexer": "ipython3",
   "version": "3.7.0"
  }
 },
 "nbformat": 4,
 "nbformat_minor": 4
}
